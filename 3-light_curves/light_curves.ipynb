{
 "cells": [
  {
   "cell_type": "markdown",
   "id": "55fef9d2",
   "metadata": {},
   "source": [
    "# Práctica 2 - Curvas de luz de galaxias cercanas"
   ]
  },
  {
   "cell_type": "markdown",
   "id": "d1e52ae5",
   "metadata": {},
   "source": [
    "## Carga de paquetes y definición de funciones"
   ]
  },
  {
   "cell_type": "code",
   "execution_count": null,
   "id": "152f4c25",
   "metadata": {},
   "outputs": [],
   "source": [
    "import numpy as np\n",
    "import matplotlib.pyplot as plt\n",
    "\n",
    "from astropy import units as u\n",
    "from astropy.cosmology import Planck18 as cosmo\n",
    "from astropy.coordinates import SkyCoord, Distance\n",
    "from astropy.io import fits\n",
    "import astropy.constants as c\n",
    "from astropy.utils.data import get_pkg_data_filename\n",
    "from astropy.wcs import WCS\n",
    "\n",
    "from astropy.visualization import make_lupton_rgb, MinMaxInterval, SqrtStretch, ImageNormalize, ZScaleInterval, LogStretch, simple_norm\n",
    "from photutils.aperture import CircularAperture\n",
    "from photutils.aperture import aperture_photometry\n",
    "\n",
    "import tarfile\n",
    "import os\n",
    "import sys\n",
    "import shutil"
   ]
  },
  {
   "cell_type": "code",
   "execution_count": null,
   "id": "420c0b15",
   "metadata": {},
   "outputs": [],
   "source": [
    "#Aspecto de las figuras\n",
    "%matplotlib inline\n",
    "%config InlineBackend.figure_format = 'png'\n",
    "plt.rcParams['xtick.top'] = True\n",
    "plt.rcParams['ytick.right'] = True\n",
    "plt.rcParams['xtick.labeltop'] = plt.rcParams['ytick.labelright'] = False\n",
    "plt.rcParams.update({\n",
    "    \"text.usetex\": False,\n",
    "    \"font.family\": \"serif\",\n",
    "    \"font.sans-serif\": [\"CMU Serif\"],'font.size': 18, 'axes.linewidth': 3})\n",
    "plt.rcParams['mathtext.fontset'] = 'custom'\n",
    "plt.rcParams['mathtext.rm'] = 'CMU Serif'\n",
    "plt.rcParams['mathtext.it'] = 'CMU Serif:italic'\n",
    "plt.rcParams['mathtext.bf'] = 'CMU Serif:bold'\n",
    "\n",
    "plt.rc('legend',fontsize='small') # fuente de leyenda"
   ]
  },
  {
   "cell_type": "code",
   "execution_count": null,
   "id": "e331baa9",
   "metadata": {},
   "outputs": [],
   "source": [
    "def plot_fotom(name, norm_percent, norm_power, anchura=False, center=False):\n",
    "    #carga de datos  \n",
    "    hdu = fits.open(name)[0] #carga imágen de referencia\n",
    "    dat = hdu.data #la convierte en matriz de datos\n",
    "    wcs = WCS(hdu); #carga coordenadas\n",
    "\n",
    "    if anchura != False and center!=False: #si quiero solo ver parte de la imagen\n",
    "        x,y = center[0], center[1]\n",
    "        plot_data = dat[int(y)-anchura[0]:int(y)+anchura[0],int(x)-anchura[1]:int(x)+anchura[1]]\n",
    "    else: #si la quiero ver entera\n",
    "        plot_data = dat\n",
    "    \n",
    "    #plot\n",
    "    norm = simple_norm(dat, percent=norm_percent ,stretch = 'power', power=norm_power) #estiro la imagen\n",
    "    fig,ax = plt.subplots(figsize=[14,14]) #creo los ejes\n",
    "    ax = plt.subplot(projection=wcs) #introduzco coordenadas\n",
    "\n",
    "    ax.imshow(plot_data, origin='lower', norm=norm, cmap='afmhot') #dibujo los datos\n",
    "    ax.grid(color='white', ls='dashed', alpha = 0.3) #rejilla\n",
    "    ax.set_xlabel('Right Ascension (J2000)') #etiquetas de ejes\n",
    "    ax.set_ylabel('Declinaction (J2000)')"
   ]
  },
  {
   "cell_type": "code",
   "execution_count": null,
   "id": "661cfb77",
   "metadata": {},
   "outputs": [],
   "source": [
    "def fotom(file, center, r):\n",
    "    \"\"\"\n",
    "    hace fotometría de apertura de SDSS\n",
    "    file: directorio del archivo de entrada\n",
    "    center: [...,...] coordenadas físicas del centro de la apertura\n",
    "    r: valor en \"(arcsec) del radio de la apertura\n",
    "    \"\"\"\n",
    "    hdu = fits.open(file)[0] #carga imágen de referencia\n",
    "    dat = hdu.data*u.nanomaggy #la convierte en matriz de datos\n",
    "    wcs = WCS(hdu); #carga coordenadas \n",
    "    r_ap = r / 0.39616\n",
    "    aperture = CircularAperture(center, r=r_ap) #creo apertura del tamaño en px escogido, pasandolo a \"\n",
    "    \n",
    "    phot = aperture_photometry(dat, aperture, wcs=wcs)\n",
    "    \n",
    "    plot_fotom(file, norm_percent = 100-1e-1, norm_power = 0.9) #incluyo plot de galaxia\n",
    "    ap_patches = aperture.plot(color='white', lw=2,label='Photometry aperture') #más la apertura calculada\n",
    "    \n",
    "    plt.ylim(center[1]-4*r, center[1]+4*r) #zoom para ver bien la apertura\n",
    "    plt.xlim(center[0]-4*r, center[0]+4*r)\n",
    "    \n",
    "    return phot['aperture_sum']"
   ]
  },
  {
   "cell_type": "markdown",
   "id": "ffaf9267",
   "metadata": {},
   "source": [
    "## Motivación"
   ]
  },
  {
   "cell_type": "markdown",
   "id": "00922690",
   "metadata": {},
   "source": [
    "El análisis fotométrico de galaxias es de gran utilidad para determinar parámetros como: el tamaño de la misma, derivar su morfología, la distribución de material, la presencia de regiones de formación estelar...\n",
    "\n",
    "En este cuaderno vamos a estudiar:\n",
    "- La magnitud total de la galaxia\n",
    "- La curva de brillo superficial\n",
    "\n",
    "Primero la dibujamos como ya sabemos (queremos imágen dónde sea vea núcleo + brazos):"
   ]
  },
  {
   "cell_type": "code",
   "execution_count": null,
   "id": "cf96e651",
   "metadata": {},
   "outputs": [],
   "source": [
    "name = './M81_g.fits'\n",
    "norm_percent = 100-5e-2\n",
    "norm_power = 0.3\n",
    "\n",
    "plot_fotom(name=name, norm_percent=norm_percent, norm_power=norm_power)"
   ]
  },
  {
   "cell_type": "markdown",
   "id": "e004d661",
   "metadata": {},
   "source": [
    "Ahora nos centramos en el núcleo (buscar coordenadas en DS9) con una anchura de [300,300]"
   ]
  },
  {
   "cell_type": "code",
   "execution_count": null,
   "id": "14f9ad66",
   "metadata": {},
   "outputs": [],
   "source": []
  },
  {
   "cell_type": "markdown",
   "id": "4b4e8252",
   "metadata": {},
   "source": [
    "Vemos claramente que el núcleo/bulbo es la parte más brillante de la galaxia. Nos centraremos en la parte interior de la misma. "
   ]
  },
  {
   "cell_type": "markdown",
   "id": "329e0d9e",
   "metadata": {},
   "source": [
    "## Curva de brillo superficial"
   ]
  },
  {
   "cell_type": "markdown",
   "id": "ebbe1b1b",
   "metadata": {},
   "source": [
    "El brillo superficial se define como el flujo por ud. de área. Para ello vamos a definir una serie de aperturas de determinado radio, calcularemos el flujo integrado a toda su área y dividremos entre esta."
   ]
  },
  {
   "cell_type": "markdown",
   "id": "67063efa",
   "metadata": {},
   "source": [
    "Las imágenes de SDSS están calibradas en una unidad denominada nanomaggies, las cuales se pueden relacionar con magnitudes comunes a través de $$ 1 \\ nMgy = 3.631 \\times 10^{-6} Jy$$\n",
    "Para pasar a brillo superficial haremos $$ SB = flux/area =  F[Jy] / A[\"^2]$$ En las unidades estándar $[mag/\"^2]$ (magnitudes por segundo de arco cuadrado) obtenemos $$ \\mu [mag/\"^2] = -2.5 \\cdot \\log_{10} \\left( \\frac{f_\\nu [Jy]}{A[\"^2] \\cdot 3631 Jy} \\right)$$ Por lo que a paritr de las unidades de la imágen se obtiene que $$ \\mu [mag/\"^2] = -2.5 \\cdot \\log_{10} \\left( \\frac{f_\\nu [nMgy] \\cdot 3.631 \\times 10^{-6} Jy}{A[\"^2] \\cdot 3631 Jy} \\right) = 22.5 -2.5 \\cdot \\log_{10} \\left( \\frac{f_\\nu [nMgy]}{A[\"^2]} \\right)$$ Lo que está de acuerdo con lo mostrado en http://www.sdss3.org/dr8/algorithms/magnitudes.php#nmgy"
   ]
  },
  {
   "cell_type": "markdown",
   "id": "bfcbe0e1",
   "metadata": {},
   "source": [
    "Primero exploramos la función de fotometría de apertura ya creada:"
   ]
  },
  {
   "cell_type": "code",
   "execution_count": null,
   "id": "6d59ae39",
   "metadata": {},
   "outputs": [],
   "source": [
    "help(fotom)"
   ]
  },
  {
   "cell_type": "code",
   "execution_count": null,
   "id": "bc562211",
   "metadata": {},
   "outputs": [],
   "source": [
    "name = './M81_g.fits'\n",
    "center=[1029,420]\n",
    "fotom(name, center, 25)"
   ]
  },
  {
   "cell_type": "markdown",
   "id": "c73821cf",
   "metadata": {},
   "source": [
    "El ejemplo muestra el funcionamiento de la función fotom(), ahora queremos:\n",
    "- `Cambiar unidades a las correctas dentro de la función para que devuelve brillo superficial correctamente`\n",
    "- `Construir curva de brillo superficial de 1\" a 200\", con paso 1\"`"
   ]
  },
  {
   "cell_type": "markdown",
   "id": "27046ede",
   "metadata": {},
   "source": [
    "Para ello tenemos que pasar de área en px^2 a \"^2 obteniendo la relación entre los \" que cubre cada px"
   ]
  },
  {
   "cell_type": "code",
   "execution_count": null,
   "id": "9c122349",
   "metadata": {},
   "outputs": [],
   "source": [
    "def fotom_sb(file, center, r, plot=True):\n",
    "    hdu = fits.open(file)[0] #carga imágen de referencia\n",
    "    dat = hdu.data*u.nanomaggy #la convierte en matriz de datos\n",
    "    wcs = WCS(hdu); #carga coordenadas \n",
    "    aperture = CircularAperture(center, r=r) #creo apertura del tamaño en px escogido\n",
    "    \n",
    "    phot = aperture_photometry(dat, aperture, wcs=wcs)\n",
    "    \n",
    "    if plot == True:\n",
    "        plot_fotom(file, norm_percent = 100-1e-2, norm_power = 0.9) #incluyo plot de galaxia\n",
    "        ap_patches = aperture.plot(color='white', lw=2,label='Photometry aperture') #más la apertura calculada\n",
    "        plt.ylim(center[1]-4*r, center[1]+4*r) #zoom para ver bien la apertura\n",
    "        plt.xlim(center[0]-4*r, center[0]+4*r)\n",
    "    \n",
    "    area_px = aperture.area #área en px^2\n",
    "    area = area_px * {!!!} * u.arcsec**2 #área en \"^2\n",
    "    arg = {!!!} * (u.arcsec**2 / u.nanomaggy) #argumento del logaritmo adimensionalizado\n",
    "    sb = (22.5 - 2.5 * np.log10(arg.value)) * (u.mag * u.arcsec**(-2)) #para calcular magnitudes/\"^2\n",
    "    \n",
    "    return sb"
   ]
  },
  {
   "cell_type": "markdown",
   "id": "c0da3777",
   "metadata": {},
   "source": [
    "Probamos la función  anterior para ver su resultado, debería devolvernos 15.61 mag/arcsec^2"
   ]
  },
  {
   "cell_type": "code",
   "execution_count": null,
   "id": "f5177ece",
   "metadata": {},
   "outputs": [],
   "source": [
    "name = './M81_g.fits'\n",
    "center=[1029,420]\n",
    "r = 1 / 0.39616      #valor de r en px dado r en arcsec\n",
    "fotom_sb(name, center, r)"
   ]
  },
  {
   "cell_type": "markdown",
   "id": "d259ed61",
   "metadata": {},
   "source": [
    "Construimos el bucle que calcula y almacena los resultados:"
   ]
  },
  {
   "cell_type": "code",
   "execution_count": null,
   "id": "c5bd89e9",
   "metadata": {
    "scrolled": true
   },
   "outputs": [],
   "source": [
    "r = np.arange(1,200) #creo vector de valores de r\n",
    "sb = []              #inicializo vector vacío para acumular en el bucle\n",
    "for px in r:         #recorro el vector y calculo valores de brillo superficial\n",
    "    {!!!}"
   ]
  },
  {
   "cell_type": "markdown",
   "id": "d1db0871",
   "metadata": {},
   "source": [
    "Para dibujar los resultados:"
   ]
  },
  {
   "cell_type": "code",
   "execution_count": null,
   "id": "301c3654",
   "metadata": {
    "scrolled": false
   },
   "outputs": [],
   "source": [
    "fig, ax = plt.subplots(figsize=(12,10))\n",
    "ax.plot((r / 0.39616)**0.25, sb, '-o')\n",
    "ax.invert_yaxis()\n",
    "\n",
    "ax.set_ylabel(r'$\\mu \\ [mag/arcsec^2]$');\n",
    "ax.set_xlabel(r'$r^{1/4} \\ [arcsec^{1/4}]$');"
   ]
  },
  {
   "cell_type": "markdown",
   "id": "69df5fc7",
   "metadata": {},
   "source": [
    "Debería quedarnos algo del estilo si representamos en función de $r[arcsec]^{0.25}$:"
   ]
  },
  {
   "attachments": {
    "M81-Visual-surface-brightness-profile-from-combined-ground-based-and-space-based_W640.jpg": {
     "image/jpeg": "[encoded data removed]"
    }
   },
   "cell_type": "markdown",
   "id": "c3ec0bee",
   "metadata": {},
   "source": [
    "![M81-Visual-surface-brightness-profile-from-combined-ground-based-and-space-based_W640.jpg](attachment:M81-Visual-surface-brightness-profile-from-combined-ground-based-and-space-based_W640.jpg)"
   ]
  },
  {
   "cell_type": "markdown",
   "id": "15db1a5d",
   "metadata": {},
   "source": [
    "Sabemos que:\n",
    "- Bulbos siguien una ley $\\mu \\propto -r^{1/4} $\n",
    "- Discos siguen ley $\\mu \\propto -r$\n",
    "Nosotros no vemos claramente la parte del bulbo, ya que no tenemos suficiente resolución en px"
   ]
  },
  {
   "cell_type": "markdown",
   "id": "3100c3cf",
   "metadata": {},
   "source": [
    "## Determianción de la magnitud total de una fuente"
   ]
  },
  {
   "cell_type": "markdown",
   "id": "5d0cc5b9",
   "metadata": {},
   "source": [
    "Ahora queremos derivar la magnitud integrada de una región en el cielo. En este caso queremos saber la de M101 (archivo `M101_g.fits`), en concreto de la región de los 12 \" centrales de la misma. Comparar con el valor de bibliografía (en filtro g de SDSS/SLOAN)."
   ]
  },
  {
   "cell_type": "code",
   "execution_count": null,
   "id": "606dda0e",
   "metadata": {},
   "outputs": [],
   "source": []
  },
  {
   "cell_type": "markdown",
   "id": "db81529f",
   "metadata": {},
   "source": [
    "Devuelve el resultado en nmgy, pero lo queremos pasar a magnitudes:"
   ]
  },
  {
   "cell_type": "code",
   "execution_count": null,
   "id": "6b95695e",
   "metadata": {},
   "outputs": [],
   "source": []
  },
  {
   "cell_type": "markdown",
   "id": "16edf775",
   "metadata": {},
   "source": [
    "Si existe una desviación con respecto a los datos publicados en simbad, hay posibles explicaciones como:\n",
    "- Falta de substración de señal de fondo\n",
    "- Estrellas y contaminación intermedia\n",
    "- Calibración burda de relación entre Jy y nmgy (como indican en http://www.sdss3.org/dr8/algorithms/magnitudes.php#nmgy)"
   ]
  }
 ],
 "metadata": {
  "kernelspec": {
   "display_name": "Python 3 (ipykernel)",
   "language": "python",
   "name": "python3"
  },
  "language_info": {
   "codemirror_mode": {
    "name": "ipython",
    "version": 3
   },
   "file_extension": ".py",
   "mimetype": "text/x-python",
   "name": "python",
   "nbconvert_exporter": "python",
   "pygments_lexer": "ipython3",
   "version": "3.7.11"
  },
  "toc": {
   "base_numbering": 1,
   "nav_menu": {},
   "number_sections": true,
   "sideBar": true,
   "skip_h1_title": true,
   "title_cell": "ÍNDICE",
   "title_sidebar": "Contents",
   "toc_cell": false,
   "toc_position": {},
   "toc_section_display": true,
   "toc_window_display": false
  }
 },
 "nbformat": 4,
 "nbformat_minor": 5
}
